{
  "cells": [
    {
      "cell_type": "markdown",
      "metadata": {
        "id": "view-in-github",
        "colab_type": "text"
      },
      "source": [
        "<a href=\"https://colab.research.google.com/github/Eduardo-Alg/nocoes_de_ordenacao/blob/main/A4__NO%C3%87%C3%95ES_DE_ORDENA%C3%87%C3%83O.ipynb\" target=\"_parent\"><img src=\"https://colab.research.google.com/assets/colab-badge.svg\" alt=\"Open In Colab\"/></a>"
      ]
    },
    {
      "cell_type": "code",
      "execution_count": null,
      "metadata": {
        "colab": {
          "base_uri": "https://localhost:8080/"
        },
        "id": "q03NMuvS91vf",
        "outputId": "c2f82f1a-ccea-4d34-d9b5-123dce5548a6"
      },
      "outputs": [
        {
          "output_type": "stream",
          "name": "stdout",
          "text": [
            "Produto0: $ 830.32, 0.76, 2025-06-13 11:01:14.387576, Categoria1\n",
            "Produto1: $ 259.87, 4.03, 2025-01-18 11:01:14.387593, Categoria4\n",
            "Produto2: $ 152.7, 3.78, 2025-04-27 11:01:14.387598, Categoria3\n",
            "Produto3: $ 216.47, 1.12, 2025-06-17 11:01:14.387601, Categoria2\n",
            "Produto4: $ 578.13, 1.46, 2025-06-12 11:01:14.387603, Categoria5\n",
            "Produto5: $ 84.85, 2.28, 2025-07-19 11:01:14.387605, Categoria2\n",
            "Produto6: $ 441.1, 4.38, 2025-08-13 11:01:14.387607, Categoria3\n",
            "Produto7: $ 829.95, 1.18, 2025-06-15 11:01:14.387609, Categoria4\n",
            "Produto8: $ 459.42, 1.75, 2024-11-29 11:01:14.387611, Categoria4\n",
            "Produto9: $ 98.92, 1.57, 2025-03-31 11:01:14.387613, Categoria2\n"
          ]
        }
      ],
      "source": [
        "import random\n",
        "import datetime\n",
        "import time\n",
        "\n",
        "class Produto:\n",
        "  def __init__(self, nome, preco, avaliacao, data_adicao, categoria):\n",
        "    self.nome = nome\n",
        "    self.preco = preco\n",
        "    self.avaliacao = avaliacao\n",
        "    self.data_adicao = data_adicao\n",
        "    self.categoria = categoria\n",
        "\n",
        "  def __repr__(self):\n",
        "    return f\"{self.nome}: $ {self.preco}, {self.avaliacao}, {self.data_adicao}, {self.categoria}\"\n",
        "\n",
        "def gerar_produtos(n):\n",
        "    nomes = [\"Produto\" + str(i) for i in range(n)]\n",
        "    precos = [round(random.uniform(10, 1000), 2) for _ in range(n)]\n",
        "    avaliacoes = [round(random.uniform(0, 5), 2) for _ in range(n)]\n",
        "    datas = [datetime.datetime.now() - datetime.timedelta(days=random.randint(0, 365)) for _ in range(n)]\n",
        "    categorias = [\"Categoria\" + str(random.randint(1, 5)) for _ in range(n)]\n",
        "    produtos = [Produto(nomes[i], precos[i], avaliacoes[i], datas[i], categorias[i]) for i in range(n)]\n",
        "    return produtos\n",
        "# Exemplo de geração de produtos\n",
        "\n",
        "produtos = gerar_produtos(10)\n",
        "\n",
        "for produto in produtos[:10]: # Mostrar os 10 primeiros produtos\n",
        "  print(produto)"
      ]
    },
    {
      "cell_type": "code",
      "execution_count": null,
      "metadata": {
        "colab": {
          "base_uri": "https://localhost:8080/"
        },
        "id": "vFpU_g9b-MmD",
        "outputId": "ec4997b8-41d6-4090-e5db-0fae6ee039d7"
      },
      "outputs": [
        {
          "output_type": "execute_result",
          "data": {
            "text/plain": [
              "[Produto0: $ 830.32, 0.76, 2025-06-13 11:01:14.387576, Categoria1,\n",
              " Produto7: $ 829.95, 1.18, 2025-06-15 11:01:14.387609, Categoria4,\n",
              " Produto4: $ 578.13, 1.46, 2025-06-12 11:01:14.387603, Categoria5,\n",
              " Produto8: $ 459.42, 1.75, 2024-11-29 11:01:14.387611, Categoria4,\n",
              " Produto6: $ 441.1, 4.38, 2025-08-13 11:01:14.387607, Categoria3,\n",
              " Produto1: $ 259.87, 4.03, 2025-01-18 11:01:14.387593, Categoria4,\n",
              " Produto3: $ 216.47, 1.12, 2025-06-17 11:01:14.387601, Categoria2,\n",
              " Produto2: $ 152.7, 3.78, 2025-04-27 11:01:14.387598, Categoria3,\n",
              " Produto9: $ 98.92, 1.57, 2025-03-31 11:01:14.387613, Categoria2,\n",
              " Produto5: $ 84.85, 2.28, 2025-07-19 11:01:14.387605, Categoria2]"
            ]
          },
          "metadata": {},
          "execution_count": 11
        }
      ],
      "source": [
        "def bubble_sort(lista , preco=False , avaliacao=False , adicao=False , categoria=False , reverse=False):\n",
        "  n = len(lista)\n",
        "  for i in range(n - 1):\n",
        "    for i in range(n - 1):\n",
        "      if preco and ((lista[i].preco > lista[i + 1].preco and not reverse) or (lista[i].preco < lista[i + 1].preco and reverse)):\n",
        "          lista[i] , lista[i + 1] = lista[i + 1] , lista[i]\n",
        "      elif avaliacao and ((lista[i].avaliacao > lista[i + 1].avaliacao and not reverse) or (lista[i].avaliacao < lista[i + 1].avaliacao and reverse)):\n",
        "          lista[i] , lista[i + 1] = lista[i + 1] , lista[i]\n",
        "      elif adicao and ((lista[i].data_adicao > lista[i + 1].data_adicao and not reverse) or (lista[i].data_adicao < lista[i + 1].data_adicao and reverse)):\n",
        "          lista[i] , lista[i + 1] = lista[i + 1] , lista[i]\n",
        "      elif categoria and ((lista[i].categoria > lista[i + 1].categoria and not reverse) or (lista[i].categoria < lista[i + 1].categoria and reverse)):\n",
        "          lista[i] , lista[i + 1] = lista[i + 1] , lista[i]\n",
        "\n",
        "bubble_sort(produtos,preco=True,reverse=True)\n",
        "produtos"
      ]
    },
    {
      "cell_type": "code",
      "source": [],
      "metadata": {
        "id": "4XkVZZo4z1Ke"
      },
      "execution_count": null,
      "outputs": []
    }
  ],
  "metadata": {
    "colab": {
      "provenance": [],
      "authorship_tag": "ABX9TyPJhAaqahts3yydCgDlEzl9",
      "include_colab_link": true
    },
    "kernelspec": {
      "display_name": "Python 3",
      "name": "python3"
    },
    "language_info": {
      "name": "python"
    }
  },
  "nbformat": 4,
  "nbformat_minor": 0
}